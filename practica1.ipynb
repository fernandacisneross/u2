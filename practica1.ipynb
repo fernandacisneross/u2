{
  "nbformat": 4,
  "nbformat_minor": 0,
  "metadata": {
    "colab": {
      "provenance": [],
      "authorship_tag": "ABX9TyPp0J8e1nOUymswLKUlgZWP",
      "include_colab_link": true
    },
    "kernelspec": {
      "name": "python3",
      "display_name": "Python 3"
    },
    "language_info": {
      "name": "python"
    }
  },
  "cells": [
    {
      "cell_type": "markdown",
      "metadata": {
        "id": "view-in-github",
        "colab_type": "text"
      },
      "source": [
        "<a href=\"https://colab.research.google.com/github/fernandacisneross/u2/blob/main/practica1.ipynb\" target=\"_parent\"><img src=\"https://colab.research.google.com/assets/colab-badge.svg\" alt=\"Open In Colab\"/></a>"
      ]
    },
    {
      "cell_type": "markdown",
      "source": [
        "fernada estrella cisneros castañeda-unidad2-practica1-3 de octubre del 2025\n",
        "-----------------------------\n",
        "¿que es pandas?\n",
        "# pandas es una libreria o biblioteca de python que se utiliza para trabajar con conjuntos de datos.tiene funciones para analizar,limpiar,explorar y manipular datos.el nombre de \"pandas\" hace referencia a panel data y python data.Fue creado en el 2008."
      ],
      "metadata": {
        "id": "Kbsgan25R18C"
      }
    },
    {
      "cell_type": "markdown",
      "source": [
        "¿por que utilizar pandas?\n",
        "pandas nos permite analizar big data y sacar conclusiones basadas en torias estadisticas.Los pandas pueden limpiar conjuntos de datos desordenados y hacerlos legibles y relevantes.Los datos relevantes son muy importantes en la ciencia de datos."
      ],
      "metadata": {
        "id": "NUYe_bmnTDRx"
      }
    },
    {
      "cell_type": "markdown",
      "source": [
        "¿que podemos hacer con pandas?\n",
        "1.-saber si existe correlacion entre dos o mas columnas.\n",
        "2.-cual es el valor promedio.\n",
        "3.-valor maximo.\n",
        "4.-valor minimo.\n",
        "pandas tambien puede eliminar filas que no son relevantes o que contienen errores,como valores vacios.Esto se llama limpieza de datos."
      ],
      "metadata": {
        "id": "qGYHAr0eToKK"
      }
    },
    {
      "cell_type": "markdown",
      "source": [
        "Instalacion de pandas\n",
        "si tienes python y pip ya instalado en un sistema, instalalo utilizando el siguiente comando.\n",
        "\"Pip install pandas\"\n",
        "si este comando falla,utiliza una distribucion de python que ya tenga pandas instaladas.\n",
        "importar pandas una ves instalado pandas importalo a tus aplicaciones agregando la palabra clave.\n",
        "\n",
        "import pandas\n",
        "\n",
        "Ahora pandas esta importado y listo para usar.\n",
        "pandas como pd crea un alias con la palabra as al importar pandas.\n",
        "\n",
        "ejemplo:import pandas as pd\n",
        "ahora el paquete pandas puede denominarse pd en lugar de pandas."
      ],
      "metadata": {
        "id": "dvgXLGQKUUER"
      }
    },
    {
      "cell_type": "markdown",
      "source": [
        "comprobando la version de pandas\n",
        "la cadena de la version se almacena en el atrubuto__version__.\n",
        "ejemplo:"
      ],
      "metadata": {
        "id": "vegcaY-tW1hb"
      }
    },
    {
      "cell_type": "code",
      "source": [
        "import pandas as pd\n",
        "print(pd.__version__)"
      ],
      "metadata": {
        "colab": {
          "base_uri": "https://localhost:8080/"
        },
        "id": "IoM08w1wXCgi",
        "outputId": "1fd801bf-f7de-43d3-fadc-a2133d59f786"
      },
      "execution_count": null,
      "outputs": [
        {
          "output_type": "stream",
          "name": "stdout",
          "text": [
            "2.2.2\n"
          ]
        }
      ]
    },
    {
      "cell_type": "markdown",
      "source": [
        "ejercicio:\n",
        "¿cual de las siguientes 3 opciones es la biblioteca oficial de pandas?\n",
        "1.-import P\n",
        "2.-import pandas <--\n",
        "3.-import pand\n"
      ],
      "metadata": {
        "id": "XWomyw_8XOqy"
      }
    },
    {
      "cell_type": "markdown",
      "source": [
        "pandas serie\n",
        "¿que es una serie?\n",
        "una serie pandas es como una columna  en una tabla.Es una matriz unidimensional que contiene datos de cualquier tipo.\n",
        "ejemplo:"
      ],
      "metadata": {
        "id": "7WuOpdPHXr2a"
      }
    },
    {
      "cell_type": "code",
      "source": [
        "import pandas as pd\n",
        "a=[1,7,2]\n",
        "myvar=pd.Series(a)\n",
        "print(myvar)"
      ],
      "metadata": {
        "colab": {
          "base_uri": "https://localhost:8080/"
        },
        "id": "6glAbwtIYK3T",
        "outputId": "92e922d3-1caf-4a1e-993f-44e22a161d49"
      },
      "execution_count": null,
      "outputs": [
        {
          "output_type": "stream",
          "name": "stdout",
          "text": [
            "0    1\n",
            "1    7\n",
            "2    2\n",
            "dtype: int64\n"
          ]
        }
      ]
    },
    {
      "cell_type": "markdown",
      "source": [
        "Etiquetas\n",
        "si no se especifico nada mas ,los valores se etiquetan con su numero de indice el primer valor tiene indice 0,el segundo valor tiene indice 1, etc..\n",
        "Esta etiqueta se puede utilizar para acceder a un valor especifico\n",
        "ejemplo:devuelve el primer valor a la serie"
      ],
      "metadata": {
        "id": "UTNPYYPIYgfK"
      }
    },
    {
      "cell_type": "code",
      "source": [
        "import pandas as pd\n",
        "a=[1,7,2]\n",
        "myvar=pd.Series(a)\n",
        "print(myvar)\n",
        "print(myvar[0])"
      ],
      "metadata": {
        "colab": {
          "base_uri": "https://localhost:8080/"
        },
        "id": "c468VXd0ZoeL",
        "outputId": "9273c13e-9f73-4a35-d247-cfa272306ae9"
      },
      "execution_count": null,
      "outputs": [
        {
          "output_type": "stream",
          "name": "stdout",
          "text": [
            "0    1\n",
            "1    7\n",
            "2    2\n",
            "dtype: int64\n",
            "1\n"
          ]
        }
      ]
    },
    {
      "cell_type": "markdown",
      "source": [
        "crear etiquetas\n",
        "con el argumento index podemos nombrar nuestras propias etiquetas\n",
        "ejemplo:crea tus propias etiquetas\n"
      ],
      "metadata": {
        "id": "sScybNsEaAz7"
      }
    },
    {
      "cell_type": "code",
      "source": [
        "import pandas as pd\n",
        "a=[1,7,2]\n",
        "myvar=pd.Series(a,index = [\"x\",\"y\",\"z\"])\n",
        "print(myvar)"
      ],
      "metadata": {
        "colab": {
          "base_uri": "https://localhost:8080/"
        },
        "id": "KgzBjleLaUCr",
        "outputId": "0a86efc8-4a74-490a-da12-6bb7f977d8ea"
      },
      "execution_count": null,
      "outputs": [
        {
          "output_type": "stream",
          "name": "stdout",
          "text": [
            "x    1\n",
            "y    7\n",
            "z    2\n",
            "dtype: int64\n"
          ]
        }
      ]
    },
    {
      "cell_type": "markdown",
      "source": [
        "cuando hayamos creado etiquetas podemos acceder a un elemento haciendo referencia a su etiqueta:devuelve el valor de \"y\""
      ],
      "metadata": {
        "id": "QuAf65_pbtuU"
      }
    },
    {
      "cell_type": "code",
      "source": [
        "import pandas as pd\n",
        "a=[1,7,2]\n",
        "myvar=pd.Series(a,index=[\"x\",\"y\",\"z\"])\n",
        "print(myvar[\"y\"])"
      ],
      "metadata": {
        "colab": {
          "base_uri": "https://localhost:8080/"
        },
        "id": "97hMYiAeb9uj",
        "outputId": "e970e95b-57cc-431e-f190-57671970ad23"
      },
      "execution_count": null,
      "outputs": [
        {
          "output_type": "stream",
          "name": "stdout",
          "text": [
            "7\n"
          ]
        }
      ]
    },
    {
      "cell_type": "markdown",
      "source": [
        "objetos clave/valor como serie.\n",
        "Tambien podemos utilizar un objeto clave/valor como diccionario al crear una seie.\n",
        "ejemplo:Crea una serie pandas basica a partir de un diccionario.\n"
      ],
      "metadata": {
        "id": "R_DNzi4DcbTk"
      }
    },
    {
      "cell_type": "code",
      "source": [
        "import pandas as pd\n",
        "calorias={\"dia1\":420,\"dia2\":380,\"dia3\":390}\n",
        "myvar=pd.Series(calorias)\n",
        "print(myvar)"
      ],
      "metadata": {
        "colab": {
          "base_uri": "https://localhost:8080/"
        },
        "id": "7Y0HPasnc1yk",
        "outputId": "39acf541-4841-4087-fdad-e9b2917f4314"
      },
      "execution_count": null,
      "outputs": [
        {
          "output_type": "stream",
          "name": "stdout",
          "text": [
            "dia1    420\n",
            "dia2    380\n",
            "dia3    390\n",
            "dtype: int64\n"
          ]
        }
      ]
    },
    {
      "cell_type": "markdown",
      "source": [
        "Nota:las claves del diccionario se convierte en las etiquetas.Para seleccionar elementos de diccionario utilize el argumento index y especifique el elemento que desea incluir en la serie ejemplo:\n",
        "crea una serie utilizando unicamente datos del dia 1 y dia 2\n"
      ],
      "metadata": {
        "id": "UQtDcq6QeG-U"
      }
    },
    {
      "cell_type": "code",
      "source": [
        "import pandas as pd\n",
        "myvar=pd.Series(calorias,index=[\"dia1\",\"dia2\"])\n",
        "print(myvar)"
      ],
      "metadata": {
        "colab": {
          "base_uri": "https://localhost:8080/"
        },
        "id": "NUxcbmv_e9-0",
        "outputId": "2caa9bbc-9ea3-4be6-9396-cde960e7dde6"
      },
      "execution_count": null,
      "outputs": [
        {
          "output_type": "stream",
          "name": "stdout",
          "text": [
            "dia1    420\n",
            "dia2    380\n",
            "dtype: int64\n"
          ]
        }
      ]
    },
    {
      "cell_type": "markdown",
      "source": [
        "Data frames\n",
        "marcos de datos los conjuntos de datos en pandas suelen ser tablas multidimensionales llamadas dataframes.Las serie es como una columna,un dataframe e toda una tabla.\n",
        "ejemplo:crea un dataframe a partir de dos series."
      ],
      "metadata": {
        "id": "1HTa1xmCfbGl"
      }
    },
    {
      "cell_type": "code",
      "source": [
        "import pandas as pd\n",
        "data={\n",
        "    \"calorias\":[420,380,390],\n",
        "    \"duracion\":[50,40,45]\n",
        "     }\n",
        "\n",
        "myvar=pd.DataFrame(data)\n",
        "print(myvar)"
      ],
      "metadata": {
        "colab": {
          "base_uri": "https://localhost:8080/"
        },
        "id": "nkzChuqygBV9",
        "outputId": "aaa39f78-c9f1-4919-ed15-3c02fd26f509"
      },
      "execution_count": null,
      "outputs": [
        {
          "output_type": "stream",
          "name": "stdout",
          "text": [
            "   calorias  duracion\n",
            "0       420        50\n",
            "1       380        40\n",
            "2       390        45\n"
          ]
        }
      ]
    }
  ]
}